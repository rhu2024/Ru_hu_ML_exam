{
 "cells": [
  {
   "cell_type": "code",
   "execution_count": 238,
   "metadata": {},
   "outputs": [],
   "source": [
    "from mads_datasets.base import BaseDatastreamer\n",
    "from mltrainer.preprocessors import BasePreprocessor\n",
    "from pathlib import Path\n",
    "import pandas as pd\n",
    "import seaborn as sns\n",
    "from sklearn.metrics import confusion_matrix\n",
    "from torch import nn\n",
    "import torch\n",
    "\n",
    "from src import datasets, metrics"
   ]
  },
  {
   "cell_type": "code",
   "execution_count": 239,
   "metadata": {},
   "outputs": [
    {
     "name": "stdout",
     "output_type": "stream",
     "text": [
      "{'ptb': 'heart', 'arrhythmia': 'heart_big'}\n"
     ]
    }
   ],
   "source": [
    "import tomllib\n",
    "\n",
    "datadir = Path('../data')\n",
    "configfile = Path(\"config.toml\")\n",
    "\n",
    "with configfile.open('rb') as f:\n",
    "    config = tomllib.load(f)\n",
    "print(config)"
   ]
  },
  {
   "cell_type": "code",
   "execution_count": 240,
   "metadata": {},
   "outputs": [
    {
     "data": {
      "text/plain": [
       "(PosixPath('../data/heart_big_train.parq'),\n",
       " PosixPath('../data/heart_big_test.parq'))"
      ]
     },
     "execution_count": 240,
     "metadata": {},
     "output_type": "execute_result"
    }
   ],
   "source": [
    "trainfile = datadir / (config['arrhythmia'] + '_train.parq')\n",
    "testfile = datadir / (config['arrhythmia'] + '_test.parq')\n",
    "trainfile, testfile"
   ]
  },
  {
   "cell_type": "markdown",
   "metadata": {},
   "source": [
    "Get the 1D data into a 2D matrix"
   ]
  },
  {
   "cell_type": "code",
   "execution_count": 241,
   "metadata": {},
   "outputs": [
    {
     "name": "stdout",
     "output_type": "stream",
     "text": [
      "Using MPS\n"
     ]
    }
   ],
   "source": [
    "shape = (16, 12)\n",
    "traindataset = datasets.HeartDataset2D(trainfile, target=\"target\", shape=shape)\n",
    "testdataset = datasets.HeartDataset2D(testfile, target=\"target\", shape=shape)\n",
    "traindataset, testdataset\n",
    "if torch.backends.mps.is_available() and torch.backends.mps.is_built():\n",
    "    device = torch.device(\"mps\")\n",
    "    print(\"Using MPS\")\n",
    "else:\n",
    "    device = \"cpu\"\n",
    "\n",
    "traindataset.to(device)\n",
    "testdataset.to(device)\n"
   ]
  },
  {
   "cell_type": "markdown",
   "metadata": {},
   "source": [
    "Let's see how that works. \n",
    "Compare this to the 1D data to see if you understand the transformation."
   ]
  },
  {
   "cell_type": "code",
   "execution_count": 242,
   "metadata": {},
   "outputs": [
    {
     "data": {
      "text/plain": [
       "(torch.Size([1, 16, 12]), tensor(0, device='mps:0'))"
      ]
     },
     "execution_count": 242,
     "metadata": {},
     "output_type": "execute_result"
    },
    {
     "data": {
      "image/png": "[encoded data removed]",
      "text/plain": [
       "<Figure size 640x480 with 2 Axes>"
      ]
     },
     "metadata": {},
     "output_type": "display_data"
    }
   ],
   "source": [
    "x, y = traindataset[0]\n",
    "# Assuming your tensor is named 'tensor'\n",
    "viz = x.squeeze().cpu().numpy()\n",
    "sns.heatmap(viz, cmap='rainbow')\n",
    "x.shape, y"
   ]
  },
  {
   "cell_type": "markdown",
   "metadata": {},
   "source": [
    "Load into a streamer"
   ]
  },
  {
   "cell_type": "code",
   "execution_count": 243,
   "metadata": {},
   "outputs": [
    {
     "data": {
      "text/plain": [
       "(11323, 2830)"
      ]
     },
     "execution_count": 243,
     "metadata": {},
     "output_type": "execute_result"
    }
   ],
   "source": [
    "trainstreamer = BaseDatastreamer(traindataset, preprocessor = BasePreprocessor(), batchsize=32)\n",
    "teststreamer = BaseDatastreamer(testdataset, preprocessor = BasePreprocessor(), batchsize=32)\n",
    "len(trainstreamer), len(teststreamer)"
   ]
  },
  {
   "cell_type": "code",
   "execution_count": 244,
   "metadata": {},
   "outputs": [
    {
     "data": {
      "text/plain": [
       "(torch.Size([32, 1, 16, 12]), torch.Size([32]))"
      ]
     },
     "execution_count": 244,
     "metadata": {},
     "output_type": "execute_result"
    }
   ],
   "source": [
    "x, y = next(trainstreamer.stream())\n",
    "x.shape, y.shape"
   ]
  },
  {
   "cell_type": "markdown",
   "metadata": {},
   "source": [
    "The ConvBlock makes it easier to stack block in the model.\n",
    "Feel free to experiment with other architectures here:\n",
    "- adding ideas like resnet, googlenet, squeeze-excite, etc.\n",
    "- add additional layers like dropout, batchnorm, etc.\n",
    "- experiment with different ways to go from 4D to 2D tensors"
   ]
  },
  {
   "cell_type": "code",
   "execution_count": 245,
   "metadata": {},
   "outputs": [],
   "source": [
    "class ConvBlock(nn.Module):\n",
    "    def __init__(self, in_channels, out_channels):\n",
    "        super().__init__()\n",
    "        self.conv = nn.Sequential(\n",
    "            nn.Conv2d(in_channels, out_channels, kernel_size=3, stride=1, padding=1),\n",
    "            nn.ReLU(),\n",
    "            nn.Conv2d(out_channels, out_channels, kernel_size=3, stride=1, padding=1),\n",
    "            nn.ReLU(),\n",
    "        )\n",
    "\n",
    "    def forward(self, x):\n",
    "        return self.conv(x)\n",
    "\n",
    "class ResidualBlock(nn.Module):\n",
    "    def __init__(self, in_channels, out_channels):\n",
    "        super().__init__()\n",
    "        self.conv = nn.Sequential(\n",
    "            nn.Conv2d(in_channels, out_channels, kernel_size=3, stride=1, padding=1),\n",
    "            nn.ReLU(),\n",
    "            nn.Conv2d(out_channels, out_channels, kernel_size=3, stride=1, padding=1),\n",
    "        )\n",
    "        self.relu = nn.ReLU()\n",
    "\n",
    "    def forward(self, x):\n",
    "        return self.relu(x + self.conv(x))\n"
   ]
  },
  {
   "cell_type": "code",
   "execution_count": 246,
   "metadata": {},
   "outputs": [],
   "source": [
    "import torch\n",
    "import torch.nn as nn\n",
    "\n",
    "class CNN(nn.Module):\n",
    "    def __init__(self, config: dict) -> None:\n",
    "        super().__init__()\n",
    "        hidden = config['hidden']\n",
    "        \n",
    "        # Initial ConvBlock\n",
    "        self.convolutions = nn.ModuleList([\n",
    "            ConvBlock(1, hidden),\n",
    "        ])\n",
    "\n",
    "        # Add ResidualBlocks\n",
    "        for i in range(config['num_blocks']):\n",
    "            self.convolutions.append(ResidualBlock(hidden, hidden))\n",
    "        \n",
    "        # Add MaxPool\n",
    "        self.convolutions.append(nn.MaxPool2d(2, 2))\n",
    "\n",
    "        # Dense layers with Dropout\n",
    "        self.dense = nn.Sequential(\n",
    "            nn.Flatten(),\n",
    "            nn.Dropout(0.1),  # Dropout before first dense layer\n",
    "            nn.Linear((8*6) * hidden, hidden),\n",
    "            nn.ReLU(),\n",
    "            nn.Dropout(0.1),  # Dropout before final output\n",
    "            nn.Linear(hidden, config['num_classes']),\n",
    "        )\n",
    "\n",
    "    def forward(self, x: torch.Tensor) -> torch.Tensor:\n",
    "        for conv in self.convolutions:\n",
    "            x = conv(x)\n",
    "        x = self.dense(x)\n",
    "        return x\n"
   ]
  },
  {
   "cell_type": "code",
   "execution_count": 247,
   "metadata": {},
   "outputs": [
    {
     "name": "stderr",
     "output_type": "stream",
     "text": [
      "\u001b[32m2025-01-23 15:23:27.770\u001b[0m | \u001b[1mINFO    \u001b[0m | \u001b[36msrc.models\u001b[0m:\u001b[36m__init__\u001b[0m:\u001b[36m37\u001b[0m - \u001b[1mActivation map size: 48\u001b[0m\n",
      "\u001b[32m2025-01-23 15:23:27.771\u001b[0m | \u001b[1mINFO    \u001b[0m | \u001b[36msrc.models\u001b[0m:\u001b[36m__init__\u001b[0m:\u001b[36m38\u001b[0m - \u001b[1mInput linear: 6144\u001b[0m\n"
     ]
    },
    {
     "data": {
      "text/plain": [
       "torch.Size([32, 5])"
      ]
     },
     "execution_count": 247,
     "metadata": {},
     "output_type": "execute_result"
    }
   ],
   "source": [
    "from src import models\n",
    "config = {\n",
    "    'hidden' : 128,\n",
    "    'num_blocks' : 3,\n",
    "    'num_classes' : 5,\n",
    "    'shape' : shape,\n",
    "\n",
    "}\n",
    "model = models.CNN(config)\n",
    "model.to(device)\n",
    "model(x).shape"
   ]
  },
  {
   "cell_type": "code",
   "execution_count": 248,
   "metadata": {},
   "outputs": [],
   "source": [
    "yhat = model(x)"
   ]
  },
  {
   "cell_type": "markdown",
   "metadata": {},
   "source": [
    "The data is unbalanced, so we are interested in much more than just accuracy."
   ]
  },
  {
   "cell_type": "code",
   "execution_count": 249,
   "metadata": {},
   "outputs": [],
   "source": [
    "f1micro = metrics.F1Score(average='micro')\n",
    "f1macro = metrics.F1Score(average='macro')\n",
    "precision = metrics.Precision('micro')\n",
    "recall = metrics.Recall('macro')\n",
    "accuracy = metrics.Accuracy()"
   ]
  },
  {
   "cell_type": "code",
   "execution_count": 250,
   "metadata": {},
   "outputs": [
    {
     "data": {
      "text/plain": [
       "<Experiment: artifact_location='/Users/rubengoedings/Documents/Ru_hu_ML_exam/notebooks/mlruns/1', creation_time=1736884668897, experiment_id='1', last_update_time=1736884668897, lifecycle_stage='active', name='2D conv model', tags={}>"
      ]
     },
     "execution_count": 250,
     "metadata": {},
     "output_type": "execute_result"
    }
   ],
   "source": [
    "import mlflow\n",
    "mlflow.set_tracking_uri(\"sqlite:///mads_exam.db\")\n",
    "mlflow.set_experiment(\"2D conv model\")"
   ]
  },
  {
   "cell_type": "code",
   "execution_count": 251,
   "metadata": {},
   "outputs": [
    {
     "name": "stderr",
     "output_type": "stream",
     "text": [
      "\u001b[32m2025-01-23 15:23:27.920\u001b[0m | \u001b[1mINFO    \u001b[0m | \u001b[36mmltrainer.trainer\u001b[0m:\u001b[36mdir_add_timestamp\u001b[0m:\u001b[36m29\u001b[0m - \u001b[1mLogging to logs/heart2D/20250123-152327\u001b[0m\n",
      "  0%|\u001b[38;2;30;71;6m          \u001b[0m| 0/5 [00:00<?, ?it/s]"
     ]
    },
    {
     "name": "stderr",
     "output_type": "stream",
     "text": [
      "100%|\u001b[38;2;30;71;6m██████████\u001b[0m| 2264/2264 [00:51<00:00, 44.35it/s]\n",
      "\u001b[32m2025-01-23 15:24:24.373\u001b[0m | \u001b[1mINFO    \u001b[0m | \u001b[36mmltrainer.trainer\u001b[0m:\u001b[36mreport\u001b[0m:\u001b[36m191\u001b[0m - \u001b[1mEpoch 0 train 1.6239 test 1.6102 metric ['0.1963', '0.1963', '0.0645', '0.1963', '0.1997']\u001b[0m\n",
      "100%|\u001b[38;2;30;71;6m██████████\u001b[0m| 2264/2264 [00:50<00:00, 44.71it/s]\n",
      "\u001b[32m2025-01-23 15:25:19.948\u001b[0m | \u001b[1mINFO    \u001b[0m | \u001b[36mmltrainer.trainer\u001b[0m:\u001b[36mreport\u001b[0m:\u001b[36m191\u001b[0m - \u001b[1mEpoch 1 train 1.6099 test 1.6094 metric ['0.2022', '0.2022', '0.0662', '0.2022', '0.1999']\u001b[0m\n",
      "100%|\u001b[38;2;30;71;6m██████████\u001b[0m| 2264/2264 [00:51<00:00, 43.92it/s]\n",
      "\u001b[32m2025-01-23 15:26:18.358\u001b[0m | \u001b[1mINFO    \u001b[0m | \u001b[36mmltrainer.trainer\u001b[0m:\u001b[36mreport\u001b[0m:\u001b[36m191\u001b[0m - \u001b[1mEpoch 2 train 1.6099 test 1.6100 metric ['0.2022', '0.2022', '0.0664', '0.2022', '0.2005']\u001b[0m\n",
      "100%|\u001b[38;2;30;71;6m██████████\u001b[0m| 2264/2264 [00:51<00:00, 44.37it/s]\n",
      "\u001b[32m2025-01-23 15:27:17.634\u001b[0m | \u001b[1mINFO    \u001b[0m | \u001b[36mmltrainer.trainer\u001b[0m:\u001b[36mreport\u001b[0m:\u001b[36m191\u001b[0m - \u001b[1mEpoch 3 train 1.6099 test 1.6103 metric ['0.2006', '0.2006', '0.0656', '0.2006', '0.2000']\u001b[0m\n",
      "100%|\u001b[38;2;30;71;6m██████████\u001b[0m| 2264/2264 [00:51<00:00, 44.20it/s]\n",
      "\u001b[32m2025-01-23 15:28:17.402\u001b[0m | \u001b[1mINFO    \u001b[0m | \u001b[36mmltrainer.trainer\u001b[0m:\u001b[36mreport\u001b[0m:\u001b[36m191\u001b[0m - \u001b[1mEpoch 4 train 1.6099 test 1.6098 metric ['0.2019', '0.2019', '0.0660', '0.2019', '0.2002']\u001b[0m\n",
      "100%|\u001b[38;2;30;71;6m██████████\u001b[0m| 5/5 [04:49<00:00, 57.89s/it]\n"
     ]
    }
   ],
   "source": [
    "from mltrainer import Trainer, TrainerSettings, ReportTypes\n",
    "import torch\n",
    "\n",
    "# Apparaat instellen (MPS of CPU)\n",
    "device = torch.device(\"mps\") if torch.backends.mps.is_available() else torch.device(\"cpu\")\n",
    "\n",
    "# Verliesfunctie\n",
    "loss_fn = torch.nn.CrossEntropyLoss()\n",
    "\n",
    "with mlflow.start_run():\n",
    "    optimizer = torch.optim.Adam\n",
    "\n",
    "    settings = TrainerSettings(\n",
    "        epochs=5,\n",
    "        metrics=[accuracy, f1micro, f1macro, precision, recall],\n",
    "        logdir=\"logs/heart2D\",\n",
    "        train_steps=len(trainstreamer) // 5,\n",
    "        valid_steps=len(teststreamer) // 5,\n",
    "        reporttypes=[ReportTypes.TENSORBOARD, ReportTypes.MLFLOW],\n",
    "        scheduler_kwargs=None,\n",
    "        earlystop_kwargs=None,\n",
    "        optimizer_kwargs={\"lr\": 0.005} \n",
    "        # \"weight_decay\": 1e-4},  # Optimizer instellingen toegevoegd\n",
    "    )\n",
    "\n",
    "    # Log model tags en hyperparameters\n",
    "    mlflow.set_tag(\"model\", \"Conv2D_with_Residual_and_Dropout\")\n",
    "    mlflow.set_tag(\"dataset\", \"heart_big\")\n",
    "    mlflow.log_param(\"scheduler\", \"None\")\n",
    "    mlflow.log_param(\"earlystop\", \"None\")\n",
    "\n",
    "    mlflow.log_params(config)\n",
    "    mlflow.log_param(\"epochs\", settings.epochs)\n",
    "    mlflow.log_param(\"shape0\", shape[0])\n",
    "    mlflow.log_param(\"optimizer\", str(optimizer))\n",
    "    mlflow.log_params(settings.optimizer_kwargs)\n",
    "\n",
    "    # Log nieuwe hyperparameters\n",
    "    mlflow.log_param(\"residual_connections\", True)\n",
    "    mlflow.log_param(\"dropout_rate\", 0.1)\n",
    "\n",
    "    # Model initialiseren en naar apparaat verplaatsen\n",
    "    model = CNN(config).to(device)\n",
    "\n",
    "    # Trainer instellen en training starten\n",
    "    trainer = Trainer(\n",
    "        model=model,\n",
    "        settings=settings,\n",
    "        loss_fn=loss_fn,\n",
    "        optimizer=optimizer,\n",
    "        traindataloader=trainstreamer.stream(),\n",
    "        validdataloader=teststreamer.stream(),\n",
    "        scheduler=None,\n",
    "    )\n",
    "\n",
    "    trainer.loop()\n"
   ]
  },
  {
   "cell_type": "code",
   "execution_count": 252,
   "metadata": {},
   "outputs": [
    {
     "data": {
      "text/plain": [
       "[Text(0.5, 23.52222222222222, 'Predicted'),\n",
       " Text(50.722222222222214, 0.5, 'Target')]"
      ]
     },
     "execution_count": 252,
     "metadata": {},
     "output_type": "execute_result"
    },
    {
     "data": {
      "image/png": "[encoded data removed]",
      "text/plain": [
       "<Figure size 640x480 with 2 Axes>"
      ]
     },
     "metadata": {},
     "output_type": "display_data"
    }
   ],
   "source": [
    "import seaborn as sns\n",
    "import numpy as np\n",
    "\n",
    "y_true = []\n",
    "y_pred = []\n",
    "\n",
    "testdata = teststreamer.stream()\n",
    "for _ in range(len(teststreamer)):\n",
    "    X, y = next(testdata)\n",
    "    yhat = model(X)\n",
    "    yhat = yhat.argmax(dim=1) # we get the one with the highest probability\n",
    "    y_pred.append(yhat.cpu().tolist())\n",
    "    y_true.append(y.cpu().tolist())\n",
    "\n",
    "yhat = [x for y in y_pred for x in y]\n",
    "y = [x for y in y_true for x in y]\n",
    "\n",
    "cfm = confusion_matrix(y, yhat)\n",
    "cfm = cfm / np.sum(cfm, axis=1, keepdims=True)\n",
    "\n",
    "plot = sns.heatmap(cfm, annot=cfm, fmt=\".3f\")\n",
    "plot.set(xlabel=\"Predicted\", ylabel=\"Target\")"
   ]
  }
 ],
 "metadata": {
  "kernelspec": {
   "display_name": ".venv",
   "language": "python",
   "name": "python3"
  },
  "language_info": {
   "codemirror_mode": {
    "name": "ipython",
    "version": 3
   },
   "file_extension": ".py",
   "mimetype": "text/x-python",
   "name": "python",
   "nbconvert_exporter": "python",
   "pygments_lexer": "ipython3",
   "version": "3.11.9"
  }
 },
 "nbformat": 4,
 "nbformat_minor": 2
}
