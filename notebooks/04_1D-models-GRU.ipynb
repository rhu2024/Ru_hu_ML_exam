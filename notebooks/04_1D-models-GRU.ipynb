{
 "cells": [
  {
   "cell_type": "code",
   "execution_count": 36,
   "metadata": {},
   "outputs": [
    {
     "data": {
      "text/plain": [
       "'0.1.129'"
      ]
     },
     "execution_count": 36,
     "metadata": {},
     "output_type": "execute_result"
    }
   ],
   "source": [
    "from mads_datasets.base import BaseDatastreamer\n",
    "from mltrainer.preprocessors import BasePreprocessor\n",
    "import matplotlib.pyplot as plt\n",
    "from pathlib import Path\n",
    "import pandas as pd\n",
    "import seaborn as sns\n",
    "from sklearn.metrics import confusion_matrix\n",
    "from torch import nn\n",
    "import torch\n",
    "from torch import Tensor\n",
    "\n",
    "from src import datasets, metrics\n",
    "import mltrainer\n",
    "mltrainer.__version__"
   ]
  },
  {
   "cell_type": "code",
   "execution_count": 37,
   "metadata": {},
   "outputs": [
    {
     "name": "stdout",
     "output_type": "stream",
     "text": [
      "{'ptb': 'heart', 'arrhythmia': 'heart_big'}\n"
     ]
    }
   ],
   "source": [
    "import tomllib\n",
    "\n",
    "datadir = Path('../data')\n",
    "configfile = Path(\"config.toml\")\n",
    "\n",
    "with configfile.open('rb') as f:\n",
    "    config = tomllib.load(f)\n",
    "print(config)"
   ]
  },
  {
   "cell_type": "code",
   "execution_count": 38,
   "metadata": {},
   "outputs": [
    {
     "data": {
      "text/plain": [
       "(PosixPath('../data/heart_big_train.parq'),\n",
       " PosixPath('../data/heart_big_test.parq'))"
      ]
     },
     "execution_count": 38,
     "metadata": {},
     "output_type": "execute_result"
    }
   ],
   "source": [
    "trainfile = datadir / (config['arrhythmia'] + '_train.parq')\n",
    "testfile = datadir / (config['arrhythmia'] + '_test.parq')\n",
    "trainfile, testfile"
   ]
  },
  {
   "cell_type": "markdown",
   "metadata": {},
   "source": [
    "Load the data"
   ]
  },
  {
   "cell_type": "code",
   "execution_count": 39,
   "metadata": {},
   "outputs": [
    {
     "data": {
      "text/plain": [
       "(Heartdataset (len 87554), Heartdataset (len 21892))"
      ]
     },
     "execution_count": 39,
     "metadata": {},
     "output_type": "execute_result"
    }
   ],
   "source": [
    "traindataset = datasets.HeartDataset1D(trainfile, target=\"target\")\n",
    "testdataset = datasets.HeartDataset1D(testfile, target=\"target\")\n",
    "traindataset, testdataset\n",
    "\n",
    "# moving to mps device crashes the jupyter kernel"
   ]
  },
  {
   "cell_type": "markdown",
   "metadata": {},
   "source": [
    "Visualise it as 1D data"
   ]
  },
  {
   "cell_type": "code",
   "execution_count": 40,
   "metadata": {},
   "outputs": [
    {
     "name": "stdout",
     "output_type": "stream",
     "text": [
      "torch.Size([192, 1]) tensor(0)\n"
     ]
    },
    {
     "data": {
      "image/png": "[encoded data removed]",
      "text/plain": [
       "<Figure size 640x480 with 1 Axes>"
      ]
     },
     "metadata": {},
     "output_type": "display_data"
    }
   ],
   "source": [
    "x, y = traindataset[0]\n",
    "viz = x.squeeze().cpu().numpy()\n",
    "sns.lineplot(x=range(len(viz)), y=viz)\n",
    "title = 'normal' if y == 0 else 'abnormal'\n",
    "plt.title(f\"Label: {title}\");\n",
    "print(x.shape, y)"
   ]
  },
  {
   "cell_type": "markdown",
   "metadata": {},
   "source": [
    "Set up the streamer"
   ]
  },
  {
   "cell_type": "code",
   "execution_count": 41,
   "metadata": {},
   "outputs": [
    {
     "data": {
      "text/plain": [
       "(2736, 684)"
      ]
     },
     "execution_count": 41,
     "metadata": {},
     "output_type": "execute_result"
    }
   ],
   "source": [
    "trainstreamer = BaseDatastreamer(traindataset, preprocessor = BasePreprocessor(), batchsize=32)\n",
    "teststreamer = BaseDatastreamer(testdataset, preprocessor = BasePreprocessor(), batchsize=32)\n",
    "len(trainstreamer), len(teststreamer)"
   ]
  },
  {
   "cell_type": "markdown",
   "metadata": {},
   "source": [
    "Positional encoding to use with the transformer."
   ]
  },
  {
   "cell_type": "code",
   "execution_count": 42,
   "metadata": {},
   "outputs": [],
   "source": [
    "# from torch import Tensor\n",
    "# import math\n",
    "\n",
    "# class PositionalEncoding(nn.Module):\n",
    "\n",
    "#     def __init__(self, d_model: int, dropout: float = 0.1, max_seq_len: int = 5000):\n",
    "#         super().__init__()\n",
    "#         self.dropout = nn.Dropout(p=dropout)\n",
    "\n",
    "#         position = torch.arange(max_seq_len).unsqueeze(1)\n",
    "#         div_term = torch.exp(torch.arange(0, d_model, 2) * (-math.log(10000.0) / d_model))\n",
    "#         pe = torch.zeros(1, max_seq_len, d_model)\n",
    "#         # batch, seq_len, d_model\n",
    "#         pe[0, :, 0::2] = torch.sin(position * div_term)\n",
    "#         pe[0, :, 1::2] = torch.cos(position * div_term)\n",
    "#         self.register_buffer('pe', pe)\n",
    "\n",
    "#     def forward(self, x: Tensor) -> Tensor:\n",
    "#         \"\"\"\n",
    "#         Arguments:\n",
    "#             x: Tensor, shape ``[batch_size, seq_len, embedding_dim]``\n",
    "#         \"\"\"\n",
    "#         x = x + self.pe[:, :x.size(1), :]\n",
    "#         return self.dropout(x)"
   ]
  },
  {
   "cell_type": "markdown",
   "metadata": {},
   "source": [
    "Note, the layers have different assumptions about the data structure:\n",
    "- streamer:         (batch, seq_len, channels)\n",
    "- conv1d:           (batch, channels, seq_len)\n",
    "- pos_encoding:     (batch, seq_len, channels)\n",
    "- gru (batchfirst): (batch, seq_len, channels)\n",
    "- attention:        (batch, seq_len, channels)\n",
    "\n",
    "As you can see, its just the conv1d layer that expects channels as the second dimension. Using a conv1d layer you\n",
    "will need to transpose the dimensions, I will show how to do that in the Transformer `forward` method.\n",
    "\n",
    "Again, the strategy of creating a block helps us stack the architecture more easily."
   ]
  },
  {
   "cell_type": "code",
   "execution_count": 43,
   "metadata": {},
   "outputs": [],
   "source": [
    "class GRUBlock(nn.Module):\n",
    "    def __init__(self, hidden_size, num_heads, dropout):\n",
    "        # feel free to change the input parameters of the constructor\n",
    "        super(GRUBlock, self).__init__()\n",
    "        self.attention = nn.MultiheadAttention(\n",
    "            embed_dim=hidden_size,\n",
    "            num_heads=num_heads,\n",
    "            dropout=dropout,\n",
    "            batch_first=True,\n",
    "        )\n",
    "        self.ff = nn.Sequential(\n",
    "            nn.Linear(hidden_size, hidden_size),\n",
    "            nn.ReLU(),\n",
    "            nn.Linear(hidden_size, hidden_size),\n",
    "        )\n",
    "        self.layer_norm1 = nn.LayerNorm(hidden_size)\n",
    "        self.layer_norm2 = nn.LayerNorm(hidden_size)\n",
    "\n",
    "    def forward(self, x):\n",
    "        identity = x.clone() # skip connection\n",
    "        x, _ = self.attention(x, x, x)\n",
    "        x = self.layer_norm1(x + identity) # Add & Norm skip\n",
    "        identity = x.clone() # second skip connection\n",
    "        x = self.ff(x)\n",
    "        x = self.layer_norm2(x + identity) # Add & Norm skip\n",
    "        return x\n",
    "\n",
    "class GRU(nn.Module):\n",
    "    def __init__(\n",
    "        self,\n",
    "        config: dict,\n",
    "    ) -> None:\n",
    "        super().__init__()\n",
    "        self.conv1d = nn.Conv1d(\n",
    "            in_channels=1,\n",
    "            out_channels=config[\"hidden\"],\n",
    "            kernel_size=3,\n",
    "            stride=2,\n",
    "            padding=1,\n",
    "        )\n",
    "        self.pos_encoder = PositionalEncoding(config[\"hidden\"], config[\"dropout\"])\n",
    "\n",
    "        # Create multiple transformer blocks\n",
    "        self.transformer_blocks = nn.ModuleList([\n",
    "            GRUBlock(config[\"hidden\"], config[\"num_heads\"], config[\"dropout\"])\n",
    "            for _ in range(config[\"num_blocks\"])\n",
    "        ])\n",
    "\n",
    "        self.out = nn.Linear(config[\"hidden\"], config[\"output\"])\n",
    "\n",
    "    def forward(self, x: Tensor) -> Tensor:\n",
    "        # streamer:         (batch, seq_len, channels)\n",
    "        # conv1d:           (batch, channels, seq_len)\n",
    "        # pos_encoding:     (batch, seq_len, channels)\n",
    "        # attention:        (batch, seq_len, channels)\n",
    "        x = self.conv1d(x.transpose(1, 2)) # flip channels and seq_len for conv1d\n",
    "        x = self.pos_encoder(x.transpose(1, 2)) # flip back to seq_len and channels\n",
    "\n",
    "        # Apply multiple transformer blocks\n",
    "        for transformer_block in self.transformer_blocks:\n",
    "            x = transformer_block(x)\n",
    "\n",
    "        x = x.mean(dim=1) # Global Average Pooling\n",
    "        x = self.out(x)\n",
    "        return x"
   ]
  },
  {
   "cell_type": "code",
   "execution_count": 51,
   "metadata": {},
   "outputs": [],
   "source": [
    "from src import models\n",
    "\n",
    "config = {\n",
    "    \"input_size\": 1,  \n",
    "    \"hidden\": 32,\n",
    "    \"dropout\": 0.1,\n",
    "    \"output\": 5,\n",
    "    \"num_layers\": 3,  # Voeg ook num_layers toe als dat nodig is\n",
    "}\n",
    "\n",
    "model = models.GRU(config)\n"
   ]
  },
  {
   "cell_type": "code",
   "execution_count": 52,
   "metadata": {},
   "outputs": [
    {
     "data": {
      "text/plain": [
       "(torch.Size([32, 192, 1]), torch.Size([32]))"
      ]
     },
     "execution_count": 52,
     "metadata": {},
     "output_type": "execute_result"
    }
   ],
   "source": [
    "x, y = next(trainstreamer.stream())\n",
    "x.shape, y.shape"
   ]
  },
  {
   "cell_type": "code",
   "execution_count": 53,
   "metadata": {},
   "outputs": [],
   "source": [
    "f1micro = metrics.F1Score(average='micro')\n",
    "f1macro = metrics.F1Score(average='macro')\n",
    "precision = metrics.Precision('micro')\n",
    "recall = metrics.Recall('macro')\n",
    "accuracy = metrics.Accuracy()"
   ]
  },
  {
   "cell_type": "code",
   "execution_count": 54,
   "metadata": {},
   "outputs": [
    {
     "data": {
      "text/plain": [
       "<Experiment: artifact_location='/Users/rubengoedings/Documents/Ru_hu_ML_exam/notebooks/mlruns/3', creation_time=1736951576001, experiment_id='3', last_update_time=1736951576001, lifecycle_stage='active', name='GRU', tags={}>"
      ]
     },
     "execution_count": 54,
     "metadata": {},
     "output_type": "execute_result"
    }
   ],
   "source": [
    "import mlflow\n",
    "mlflow.set_tracking_uri(\"sqlite:///mads_exam.db\")\n",
    "mlflow.set_experiment(\"GRU\")"
   ]
  },
  {
   "cell_type": "code",
   "execution_count": 55,
   "metadata": {},
   "outputs": [
    {
     "data": {
      "text/plain": [
       "547"
      ]
     },
     "execution_count": 55,
     "metadata": {},
     "output_type": "execute_result"
    }
   ],
   "source": [
    "len(trainstreamer) // 5"
   ]
  },
  {
   "cell_type": "code",
   "execution_count": 56,
   "metadata": {},
   "outputs": [
    {
     "name": "stderr",
     "output_type": "stream",
     "text": [
      "\u001b[32m2025-01-19 15:04:57.026\u001b[0m | \u001b[1mINFO    \u001b[0m | \u001b[36mmltrainer.trainer\u001b[0m:\u001b[36mdir_add_timestamp\u001b[0m:\u001b[36m29\u001b[0m - \u001b[1mLogging to logs/heart1D/20250119-150457\u001b[0m\n",
      "  0%|\u001b[38;2;30;71;6m          \u001b[0m| 0/5 [00:00<?, ?it/s]"
     ]
    },
    {
     "name": "stderr",
     "output_type": "stream",
     "text": [
      "100%|\u001b[38;2;30;71;6m██████████\u001b[0m| 547/547 [00:26<00:00, 20.63it/s]\n",
      "\u001b[32m2025-01-19 15:05:26.434\u001b[0m | \u001b[1mINFO    \u001b[0m | \u001b[36mmltrainer.trainer\u001b[0m:\u001b[36mreport\u001b[0m:\u001b[36m191\u001b[0m - \u001b[1mEpoch 0 train 0.6965 test 0.6438 metric ['0.8336', '0.8336', '0.2699', '0.8336', '0.2958']\u001b[0m\n",
      "100%|\u001b[38;2;30;71;6m██████████\u001b[0m| 547/547 [00:27<00:00, 19.68it/s]\n",
      "\u001b[32m2025-01-19 15:05:57.239\u001b[0m | \u001b[1mINFO    \u001b[0m | \u001b[36mmltrainer.trainer\u001b[0m:\u001b[36mreport\u001b[0m:\u001b[36m191\u001b[0m - \u001b[1mEpoch 1 train 0.6227 test 0.5633 metric ['0.8311', '0.8311', '0.2704', '0.8311', '0.3033']\u001b[0m\n",
      "100%|\u001b[38;2;30;71;6m██████████\u001b[0m| 547/547 [00:29<00:00, 18.51it/s]\n",
      "\u001b[32m2025-01-19 15:06:29.827\u001b[0m | \u001b[1mINFO    \u001b[0m | \u001b[36mmltrainer.trainer\u001b[0m:\u001b[36mreport\u001b[0m:\u001b[36m191\u001b[0m - \u001b[1mEpoch 2 train 0.5267 test 0.6685 metric ['0.8212', '0.8212', '0.2604', '0.8212', '0.2876']\u001b[0m\n",
      "100%|\u001b[38;2;30;71;6m██████████\u001b[0m| 547/547 [00:28<00:00, 19.17it/s]\n",
      "\u001b[32m2025-01-19 15:07:01.314\u001b[0m | \u001b[1mINFO    \u001b[0m | \u001b[36mmltrainer.trainer\u001b[0m:\u001b[36mreport\u001b[0m:\u001b[36m191\u001b[0m - \u001b[1mEpoch 3 train 0.5083 test 0.4219 metric ['0.8858', '0.8858', '0.4922', '0.8858', '0.5287']\u001b[0m\n",
      "100%|\u001b[38;2;30;71;6m██████████\u001b[0m| 547/547 [00:29<00:00, 18.48it/s]\n",
      "\u001b[32m2025-01-19 15:07:33.976\u001b[0m | \u001b[1mINFO    \u001b[0m | \u001b[36mmltrainer.trainer\u001b[0m:\u001b[36mreport\u001b[0m:\u001b[36m191\u001b[0m - \u001b[1mEpoch 4 train 0.3790 test 0.3737 metric ['0.8966', '0.8966', '0.5693', '0.8966', '0.5753']\u001b[0m\n",
      "100%|\u001b[38;2;30;71;6m██████████\u001b[0m| 5/5 [02:36<00:00, 31.39s/it]\n"
     ]
    }
   ],
   "source": [
    "from mltrainer import Trainer, TrainerSettings, ReportTypes\n",
    "loss_fn = torch.nn.CrossEntropyLoss()\n",
    "\n",
    "with mlflow.start_run():\n",
    "    optimizer = torch.optim.Adam\n",
    "\n",
    "    settings = TrainerSettings(\n",
    "        epochs=5,\n",
    "        metrics=[accuracy, f1micro, f1macro, precision, recall],\n",
    "        logdir=\"logs/heart1D\",\n",
    "        train_steps=len(trainstreamer) //5,\n",
    "        valid_steps=len(teststreamer) //5,\n",
    "        reporttypes=[ReportTypes.TENSORBOARD, ReportTypes.MLFLOW],\n",
    "        scheduler_kwargs=None,\n",
    "        earlystop_kwargs=None\n",
    "    )\n",
    "\n",
    "    mlflow.set_tag(\"model\", \"GRU\")\n",
    "    mlflow.set_tag(\"dataset\", \"heart_big\")\n",
    "    mlflow.log_params(config)\n",
    "    mlflow.log_param(\"epochs\", settings.epochs)\n",
    "    mlflow.log_param(\"optimizer\", str(optimizer))\n",
    "    mlflow.log_param(\"scheduler\", \"None\")\n",
    "    mlflow.log_param(\"earlystop\", \"None\")\n",
    "    mlflow.log_params(settings.optimizer_kwargs)\n",
    "\n",
    "    trainer = Trainer(\n",
    "        model=model,\n",
    "        settings=settings,\n",
    "        loss_fn=loss_fn,\n",
    "        optimizer=optimizer,\n",
    "        traindataloader=trainstreamer.stream(),\n",
    "        validdataloader=teststreamer.stream(),\n",
    "        scheduler=None,\n",
    "        )\n",
    "    trainer.loop()"
   ]
  },
  {
   "cell_type": "code",
   "execution_count": 57,
   "metadata": {},
   "outputs": [
    {
     "data": {
      "text/plain": [
       "[Text(0.5, 23.52222222222222, 'Predicted'),\n",
       " Text(50.722222222222214, 0.5, 'Target')]"
      ]
     },
     "execution_count": 57,
     "metadata": {},
     "output_type": "execute_result"
    },
    {
     "data": {
      "image/png": "[encoded data removed]",
      "text/plain": [
       "<Figure size 640x480 with 2 Axes>"
      ]
     },
     "metadata": {},
     "output_type": "display_data"
    }
   ],
   "source": [
    "import seaborn as sns\n",
    "import numpy as np\n",
    "\n",
    "y_true = []\n",
    "y_pred = []\n",
    "\n",
    "testdata = teststreamer.stream()\n",
    "for _ in range(len(teststreamer)):\n",
    "    X, y = next(testdata)\n",
    "    yhat = model(X)\n",
    "    yhat = yhat.argmax(dim=1) \n",
    "    y_pred.append(yhat.cpu().tolist())\n",
    "    y_true.append(y.cpu().tolist())\n",
    "\n",
    "yhat = [x for y in y_pred for x in y]\n",
    "y = [x for y in y_true for x in y]\n",
    "\n",
    "cfm = confusion_matrix(y, yhat)\n",
    "cfm = cfm / np.sum(cfm, axis=1, keepdims=True)\n",
    "\n",
    "plot = sns.heatmap(cfm, annot=cfm, fmt=\".3f\")\n",
    "plot.set(xlabel=\"Predicted\", ylabel=\"Target\")"
   ]
  }
 ],
 "metadata": {
  "kernelspec": {
   "display_name": ".venv",
   "language": "python",
   "name": "python3"
  },
  "language_info": {
   "codemirror_mode": {
    "name": "ipython",
    "version": 3
   },
   "file_extension": ".py",
   "mimetype": "text/x-python",
   "name": "python",
   "nbconvert_exporter": "python",
   "pygments_lexer": "ipython3",
   "version": "3.11.9"
  }
 },
 "nbformat": 4,
 "nbformat_minor": 2
}
